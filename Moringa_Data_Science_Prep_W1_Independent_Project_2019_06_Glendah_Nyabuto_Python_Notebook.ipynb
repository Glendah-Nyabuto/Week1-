{
  "nbformat": 4,
  "nbformat_minor": 0,
  "metadata": {
    "colab": {
      "name": "Moringa_Data_Science_Prep_W1_Independent_Project_2019_06_Glendah_Nyabuto_Python_Notebook.ipynb",
      "provenance": [],
      "collapsed_sections": [],
      "toc_visible": true,
      "authorship_tag": "ABX9TyM4V5eIbCPIHJaZuGWkbKlK",
      "include_colab_link": true
    },
    "kernelspec": {
      "name": "python3",
      "display_name": "Python 3"
    },
    "language_info": {
      "name": "python"
    }
  },
  "cells": [
    {
      "cell_type": "markdown",
      "metadata": {
        "id": "view-in-github",
        "colab_type": "text"
      },
      "source": [
        "<a href=\"https://colab.research.google.com/github/Glendah-Nyabuto/Week1-/blob/main/Moringa_Data_Science_Prep_W1_Independent_Project_2019_06_Glendah_Nyabuto_Python_Notebook.ipynb\" target=\"_parent\"><img src=\"https://colab.research.google.com/assets/colab-badge.svg\" alt=\"Open In Colab\"/></a>"
      ]
    },
    {
      "cell_type": "code",
      "metadata": {
        "colab": {
          "base_uri": "https://localhost:8080/"
        },
        "id": "JSjALNxaJWKf",
        "outputId": "110b88b7-1c25-4153-f6bf-78e03584f916"
      },
      "source": [
        "# Take two values x and y from the user both in pounds and convert them in to kg\n",
        "#\n",
        "\n",
        "x = int(input('Enter value: '))\n",
        "y = int(input(\"Enter value: \"))\n",
        "\n",
        "weight1_in_kg = x * 0.456\n",
        "weight2_in_kg = y * 0.456\n",
        "print(weight1_in_kg)\n",
        "print(weight2_in_kg)"
      ],
      "execution_count": 13,
      "outputs": [
        {
          "output_type": "stream",
          "text": [
            "Enter value: 120\n",
            "Enter value: 181\n",
            "54.72\n",
            "82.536\n"
          ],
          "name": "stdout"
        }
      ]
    },
    {
      "cell_type": "code",
      "metadata": {
        "colab": {
          "base_uri": "https://localhost:8080/"
        },
        "id": "oE3Un5XYMBdj",
        "outputId": "f1927e86-a957-4570-9f97-deee5fba1c85"
      },
      "source": [
        "#The sum of the two values\n",
        "#\n",
        "print(x + y)"
      ],
      "execution_count": 14,
      "outputs": [
        {
          "output_type": "stream",
          "text": [
            "301\n"
          ],
          "name": "stdout"
        }
      ]
    },
    {
      "cell_type": "code",
      "metadata": {
        "colab": {
          "base_uri": "https://localhost:8080/"
        },
        "id": "LoM9WULpM7gb",
        "outputId": "a2b28e84-6ae4-4a99-edb8-51bc92bd574c"
      },
      "source": [
        "# The average\n",
        "#\n",
        "sum = x + y\n",
        "avg = sum / 2\n",
        "print(avg)"
      ],
      "execution_count": 15,
      "outputs": [
        {
          "output_type": "stream",
          "text": [
            "150.5\n"
          ],
          "name": "stdout"
        }
      ]
    },
    {
      "cell_type": "code",
      "metadata": {
        "colab": {
          "base_uri": "https://localhost:8080/"
        },
        "id": "Bd8e4qnPNXc6",
        "outputId": "a9ba2cfd-e84d-4478-ccf9-e39901c15e2f"
      },
      "source": [
        "# The difrence between the values\n",
        "#\n",
        "\n",
        "print(y - x)\n",
        "print(x - y)"
      ],
      "execution_count": 16,
      "outputs": [
        {
          "output_type": "stream",
          "text": [
            "61\n",
            "-61\n"
          ],
          "name": "stdout"
        }
      ]
    },
    {
      "cell_type": "code",
      "metadata": {
        "colab": {
          "base_uri": "https://localhost:8080/"
        },
        "id": "4LMjJvmcNoGz",
        "outputId": "a84b5dae-d6a7-46e6-ed30-e6f17dc70376"
      },
      "source": [
        "# The quotient when the one value is divided by the other\n",
        "# Quotient means how many time a number is in another number\n",
        "#The degree \n",
        "#\n",
        "\n",
        "print(y // x) "
      ],
      "execution_count": 17,
      "outputs": [
        {
          "output_type": "stream",
          "text": [
            "1\n"
          ],
          "name": "stdout"
        }
      ]
    },
    {
      "cell_type": "code",
      "metadata": {
        "colab": {
          "base_uri": "https://localhost:8080/"
        },
        "id": "uPtu_KACO3Ml",
        "outputId": "58fc8e0e-ffe8-4cb5-f1c1-687a8396863e"
      },
      "source": [
        "#Determining whether any of the numbers is even or odd \n",
        "#\n",
        "if x %2 == 0:\n",
        "    print(\"Even number\")\n",
        "else:\n",
        "    print(\"Odd number\")"
      ],
      "execution_count": 21,
      "outputs": [
        {
          "output_type": "stream",
          "text": [
            "Even number\n"
          ],
          "name": "stdout"
        }
      ]
    },
    {
      "cell_type": "code",
      "metadata": {
        "id": "uBZ8ZmEaP47W"
      },
      "source": [
        ""
      ],
      "execution_count": null,
      "outputs": []
    }
  ]
}